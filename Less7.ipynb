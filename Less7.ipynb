{
 "cells": [
  {
   "cell_type": "code",
   "execution_count": 1,
   "id": "c2ddf0de-6c2f-4bde-b19b-53f28195ac20",
   "metadata": {},
   "outputs": [
    {
     "name": "stdout",
     "output_type": "stream",
     "text": [
      "Фильм с наибольшим количеством оценок 5.0: Shawshank Redemption, The (1994)\n"
     ]
    }
   ],
   "source": [
    "import pandas as pd\n",
    "\n",
    "# Загрузим данные из файлов CSV\n",
    "ratings_df = pd.read_csv('ratings.csv')\n",
    "movies_df = pd.read_csv('movies.csv')\n",
    "\n",
    "# Отфильтруем оценки со значением 5.0\n",
    "ratings_5_df = ratings_df[ratings_df['rating'] == 5.0]\n",
    "\n",
    "# Подсчитаем количество оценок 5.0 для каждого фильма\n",
    "ratings_count = ratings_5_df['movieId'].value_counts()\n",
    "\n",
    "# Найдем movieId с максимальным количеством оценок 5.0\n",
    "top_movie_id = ratings_count.idxmax()\n",
    "\n",
    "# Получим название фильма\n",
    "top_movie_title = movies_df[movies_df['movieId'] == top_movie_id]['title'].values[0]\n",
    "\n",
    "print(f\"Фильм с наибольшим количеством оценок 5.0: {top_movie_title}\")\n"
   ]
  }
 ],
 "metadata": {
  "kernelspec": {
   "display_name": "Python 3 (ipykernel)",
   "language": "python",
   "name": "python3"
  },
  "language_info": {
   "codemirror_mode": {
    "name": "ipython",
    "version": 3
   },
   "file_extension": ".py",
   "mimetype": "text/x-python",
   "name": "python",
   "nbconvert_exporter": "python",
   "pygments_lexer": "ipython3",
   "version": "3.12.4"
  }
 },
 "nbformat": 4,
 "nbformat_minor": 5
}
