{
 "cells": [
  {
   "cell_type": "code",
   "execution_count": null,
   "id": "df2c46e0-6916-4c83-8a44-e18914b21d86",
   "metadata": {},
   "outputs": [],
   "source": [
    "Задание 1\n",
    "\n",
    "Напишите код, который возвращает название валюты (поле Name) с максимальным значением курса с помощью сервиса: https://www.cbr-xml-daily.ru/daily_json.js\n",
    "\n",
    "Можно реализовать как с помощью класса из материалов занятия, так и без него.\n",
    "\n",
    "Пример работы программы (зависит от текущих курсов валют):\n",
    "китайские юани."
   ]
  },
  {
   "cell_type": "code",
   "execution_count": 6,
   "id": "4352b5e5-c558-4e46-8a05-e09078b09b0c",
   "metadata": {},
   "outputs": [
    {
     "name": "stdout",
     "output_type": "stream",
     "text": [
      "Фунт стерлингов Соединенного королевства\n"
     ]
    }
   ],
   "source": [
    "def get_currency_with_max_rate():\n",
    "    url = 'https://www.cbr-xml-daily.ru/daily_json.js'\n",
    "    response = requests.get(url)\n",
    "    \n",
    "    if response.status_code != 200:\n",
    "        raise Exception('Ошибка при получении данных с сервера')\n",
    "    \n",
    "    data = response.json()\n",
    "    currencies = data['Valute']\n",
    "    \n",
    "    # Ищем валюту с максимальным значением курса, исключая СДР\n",
    "    max_currency = max(\n",
    "        (currency for currency in currencies.values() if currency['CharCode'] != 'XDR'),\n",
    "        key=lambda x: x['Value']\n",
    "    )\n",
    "    \n",
    "    return max_currency['Name']\n",
    "\n",
    "if __name__ == \"__main__\":\n",
    "    max_currency_name = get_currency_with_max_rate()\n",
    "    print(max_currency_name)\n"
   ]
  }
 ],
 "metadata": {
  "kernelspec": {
   "display_name": "Python 3 (ipykernel)",
   "language": "python",
   "name": "python3"
  },
  "language_info": {
   "codemirror_mode": {
    "name": "ipython",
    "version": 3
   },
   "file_extension": ".py",
   "mimetype": "text/x-python",
   "name": "python",
   "nbconvert_exporter": "python",
   "pygments_lexer": "ipython3",
   "version": "3.12.4"
  }
 },
 "nbformat": 4,
 "nbformat_minor": 5
}
