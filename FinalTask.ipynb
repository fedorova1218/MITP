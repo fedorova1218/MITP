{
 "cells": [
  {
   "cell_type": "code",
   "execution_count": 31,
   "id": "f4e2e2cb-9a99-423f-a54d-e8e27470e4b3",
   "metadata": {},
   "outputs": [],
   "source": [
    "import pandas as pd\n",
    "\n",
    "# Загрузка данных\n",
    "data_movies = pd.read_csv('movies_stats.csv')"
   ]
  },
  {
   "cell_type": "code",
   "execution_count": 57,
   "id": "4eac9b40-f12c-4b0c-92cb-0569be115eb5",
   "metadata": {},
   "outputs": [
    {
     "name": "stdout",
     "output_type": "stream",
     "text": [
      "[1950, 1951, 1952, 1953, 1954, 1955, 1956, 1957, 1958, 1959, 1960, 1961, 1962, 1963, 1964, 1965, 1966, 1967, 1968, 1969, 1970, 1971, 1972, 1973, 1974, 1975, 1976, 1977, 1978, 1979, 1980, 1981, 1982, 1983, 1984, 1985, 1986, 1987, 1988, 1989, 1990, 1991, 1992, 1993, 1994, 1995, 1996, 1997, 1998, 1999, 2000, 2001, 2002, 2003, 2004, 2005, 2006, 2007, 2008, 2009, 2010]\n"
     ]
    }
   ],
   "source": [
    "#Пункт 1\n",
    "# Создание списка years из всех годов с 1950-го по 2010-й\n",
    "years = list(range(1950, 2011))\n",
    "print(years)"
   ]
  },
  {
   "cell_type": "code",
   "execution_count": 43,
   "id": "3fbe5b88-c2b4-4417-960c-cf1fa8509c17",
   "metadata": {},
   "outputs": [],
   "source": [
    "#Пункт 2\n",
    "# Определение функции production_year  - функция поиска года фильма\n",
    "def production_year(title):\n",
    "    for year in years:\n",
    "        if str(year) in title:\n",
    "            return year      \n",
    "    return 1900"
   ]
  },
  {
   "cell_type": "code",
   "execution_count": 49,
   "id": "31600367-74dd-4d08-b9a4-ea01bd1d5fa7",
   "metadata": {},
   "outputs": [
    {
     "name": "stdout",
     "output_type": "stream",
     "text": [
      "0                                 Dangerous Minds (1995)\n",
      "1                                           Dumbo (1941)\n",
      "2                                        Sleepers (1996)\n",
      "3                            Escape from New York (1981)\n",
      "4         Cinema Paradiso (Nuovo cinema Paradiso) (1989)\n",
      "                               ...                      \n",
      "99999                       Raising Victor Vargas (2002)\n",
      "100000                                     Stevie (2002)\n",
      "100001                       Matrix Reloaded, The (2003)\n",
      "100002                                Whale Rider (2002)\n",
      "100003                                 Seabiscuit (2003)\n",
      "Name: title, Length: 100004, dtype: object 0         1995\n",
      "1         1900\n",
      "2         1996\n",
      "3         1981\n",
      "4         1989\n",
      "          ... \n",
      "99999     2002\n",
      "100000    2002\n",
      "100001    2003\n",
      "100002    2002\n",
      "100003    2003\n",
      "Name: year, Length: 100004, dtype: int64\n"
     ]
    }
   ],
   "source": [
    "#Пункт 3\n",
    "# Применение функции и добавление нового столбца\n",
    "data_movies['year'] = data_movies['title'].apply(production_year)\n",
    "print(data_movies['title'], data_movies['year'])"
   ]
  },
  {
   "cell_type": "code",
   "execution_count": 55,
   "id": "cc455187-d07b-48c7-b19a-525f8f4d4ae4",
   "metadata": {},
   "outputs": [
    {
     "name": "stdout",
     "output_type": "stream",
     "text": [
      "    year    rating\n",
      "8   1957  4.014241\n",
      "23  1972  4.011136\n",
      "3   1952  4.000000\n",
      "5   1954  3.994220\n",
      "2   1951  3.983539\n",
      "..   ...       ...\n",
      "56  2005  3.448434\n",
      "54  2003  3.444777\n",
      "47  1996  3.426600\n",
      "48  1997  3.415764\n",
      "51  2000  3.356104\n",
      "\n",
      "[62 rows x 2 columns]\n"
     ]
    }
   ],
   "source": [
    "#Пункт 4\n",
    "# Вычисление среднего рейтинга для каждого года\n",
    "movies_ratings = data_movies.groupby('year')['rating'].mean().reset_index()\n",
    "\n",
    "# Сортировка данных по убыванию среднего рейтинга\n",
    "movies_ratings_sorted = movies_ratings.sort_values(by='rating', ascending=False)\n",
    "\n",
    "# Вывод результатов\n",
    "print(movies_ratings_sorted)"
   ]
  },
  {
   "cell_type": "code",
   "execution_count": 53,
   "id": "26cbfd3d-1229-4747-96ae-c374ae7d6a6a",
   "metadata": {},
   "outputs": [
    {
     "name": "stdout",
     "output_type": "stream",
     "text": [
      "    year    rating\n",
      "8   1957  4.014241\n",
      "23  1972  4.011136\n",
      "3   1952  4.000000\n",
      "5   1954  3.994220\n",
      "2   1951  3.983539\n",
      "..   ...       ...\n",
      "56  2005  3.448434\n",
      "54  2003  3.444777\n",
      "47  1996  3.426600\n",
      "48  1997  3.415764\n",
      "51  2000  3.356104\n",
      "\n",
      "[62 rows x 2 columns]\n"
     ]
    }
   ],
   "source": [
    "#Весь код\n",
    "import pandas as pd\n",
    "\n",
    "# Загрузка данных\n",
    "data_movies = pd.read_csv('movies_stats.csv')\n",
    "\n",
    "# Создание списка years из всех годов с 1950-го по 2010-й\n",
    "years = list(range(1950, 2011))\n",
    "\n",
    "# Определение функции production_year  - функция поиска года фильма\n",
    "def production_year(title):\n",
    "    for year in years:\n",
    "        if str(year) in title:\n",
    "            return year      \n",
    "    return 1900\n",
    "\n",
    "# Применение функции и добавление нового столбца\n",
    "data_movies['year'] = data_movies['title'].apply(production_year)\n",
    "\n",
    "# Вычисление среднего рейтинга для каждого года\n",
    "movies_ratings = data_movies.groupby('year')['rating'].mean().reset_index()\n",
    "\n",
    "# Сортировка данных по убыванию среднего рейтинга\n",
    "movies_ratings_sorted = movies_ratings.sort_values(by='rating', ascending=False)\n",
    "\n",
    "# Вывод результатов\n",
    "print(movies_ratings_sorted)"
   ]
  }
 ],
 "metadata": {
  "kernelspec": {
   "display_name": "Python 3 (ipykernel)",
   "language": "python",
   "name": "python3"
  },
  "language_info": {
   "codemirror_mode": {
    "name": "ipython",
    "version": 3
   },
   "file_extension": ".py",
   "mimetype": "text/x-python",
   "name": "python",
   "nbconvert_exporter": "python",
   "pygments_lexer": "ipython3",
   "version": "3.12.4"
  }
 },
 "nbformat": 4,
 "nbformat_minor": 5
}
