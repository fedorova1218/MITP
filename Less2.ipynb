{
 "cells": [
  {
   "cell_type": "code",
   "execution_count": 3,
   "id": "ff85d66f-789f-4b3c-aaba-de51b48c315b",
   "metadata": {},
   "outputs": [],
   "source": [
    "documents = [\n",
    "{\"type\": \"passport\", \"number\": \"2207 876234\", \"name\": \"Василий Гупкин\"},\n",
    "{\"type\": \"invoice\", \"number\": \"11-2\", \"name\": \"Геннадий Покемонов\"},\n",
    "{\"type\": \"insurance\", \"number\": \"10006\", \"name\": \"Аристарх Павлов\"}\n",
    "]\n",
    "directories = {\n",
    "\"1\": [\"2207 876234\", \"11-2\"],\n",
    "\"2\": [\"10006\"],\n",
    "\"3\": []\n",
    "}\n"
   ]
  },
  {
   "cell_type": "code",
   "execution_count": 119,
   "id": "09e79b55-9f3b-4c3f-ad40-413b62bba5d2",
   "metadata": {},
   "outputs": [
    {
     "name": "stdout",
     "output_type": "stream",
     "text": [
      "Документ хранится на полке: 2\n"
     ]
    }
   ],
   "source": [
    "numb = \"1000\"\n",
    "# по значениям\n",
    "for  key, values in directories.items():\n",
    "    \n",
    "    #по элементам списка значений\n",
    "    for i in values:\n",
    "        #проверка есть ли такой элемент, если нет добавление\n",
    "        if i == numb:\n",
    "            print(\"Документ хранится на полке: \" + str(key))\n",
    "      \n"
   ]
  },
  {
   "cell_type": "code",
   "execution_count": 80,
   "id": "6f50f753-0457-4081-a0cb-2119e5465371",
   "metadata": {},
   "outputs": [],
   "source": [
    "def search_name(numb):\n",
    "    name = \"\"\n",
    "    for dict in documents:\n",
    "        if dict[\"number\"]== numb:\n",
    "            name = dict[\"name\"]\n",
    "    if name == \"\":\n",
    "        print(\"Владелец документа: владелец не найден\")\n",
    "    else:\n",
    "        print(\"Владелец документа: \" + name)"
   ]
  },
  {
   "cell_type": "code",
   "execution_count": 123,
   "id": "bb429885-5e7f-4d8c-9ba0-0d3d6d54d696",
   "metadata": {},
   "outputs": [],
   "source": [
    "def search_shelf(numb):\n",
    "    shelf = \"\"\n",
    "    # по значениям\n",
    "    for  key, values in directories.items():       \n",
    "        #по элементам списка значений\n",
    "        for i in values:\n",
    "            #проверка есть ли такой элемент, если нет добавление\n",
    "            if i == numb:\n",
    "                shelf = str(key)\n",
    "    if shelf == \"\":\n",
    "        print(\"Документ не найден\")\n",
    "    else:\n",
    "        print(\"Документ хранится на полке: \" + shelf)\n",
    "                "
   ]
  },
  {
   "cell_type": "code",
   "execution_count": 127,
   "id": "49fdec54-890b-435e-aea8-39ef04533427",
   "metadata": {},
   "outputs": [
    {
     "name": "stdin",
     "output_type": "stream",
     "text": [
      "Введите команду р или s: s\n",
      "Введите номер документа: 1001\n"
     ]
    },
    {
     "name": "stdout",
     "output_type": "stream",
     "text": [
      "Документ не найден\n"
     ]
    }
   ],
   "source": [
    "command = input(\"Введите команду р или s:\")\n",
    "numb = input(\"Введите номер документа:\")\n",
    "if command == \"p\":\n",
    "    search_name(numb)\n",
    "if command == \"s\":\n",
    "    search_shelf(numb)"
   ]
  },
  {
   "cell_type": "code",
   "execution_count": 72,
   "id": "04a45fa6-68a7-462a-90ab-89699d4f60d4",
   "metadata": {},
   "outputs": [
    {
     "name": "stdin",
     "output_type": "stream",
     "text": [
      "Введите строку (или 'q' для выхода):  10006 \n",
      "Введите строку (или 'q' для выхода):  q\n"
     ]
    },
    {
     "name": "stdout",
     "output_type": "stream",
     "text": [
      "Выход из программы.\n",
      "Введен некорретный номер\n"
     ]
    }
   ],
   "source": [
    "while True:\n",
    "    numb = input(\"Введите строку (или 'q' для выхода): \")\n",
    "    \n",
    "    if numb.lower() == 'q':  # Проверяем, ввел ли пользователь 'q'\n",
    "        print(\"Выход из программы.\")\n",
    "        break  # Выходим из цикла и завершаем программу\n",
    "search_name(numb)"
   ]
  }
 ],
 "metadata": {
  "kernelspec": {
   "display_name": "Python 3 (ipykernel)",
   "language": "python",
   "name": "python3"
  },
  "language_info": {
   "codemirror_mode": {
    "name": "ipython",
    "version": 3
   },
   "file_extension": ".py",
   "mimetype": "text/x-python",
   "name": "python",
   "nbconvert_exporter": "python",
   "pygments_lexer": "ipython3",
   "version": "3.12.4"
  }
 },
 "nbformat": 4,
 "nbformat_minor": 5
}
