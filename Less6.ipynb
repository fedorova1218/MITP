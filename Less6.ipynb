{
 "cells": [
  {
   "cell_type": "code",
   "execution_count": null,
   "id": "485b6b00-0e42-4241-b2c5-5c9d9f84dfb6",
   "metadata": {},
   "outputs": [],
   "source": [
    "Напишите функцию, которая принимает на вход строку и проверяет, является ли она валидным транспортным номером (1 буква, 3 цифры, 2 буквы, 2–3 цифры). Обратите внимание, что не все буквы кириллического алфавита используются в транспортных номерах.\n",
    "\n",
    "Если номер валиден, то функция должна возвращать отдельно номер и регион.\n",
    "\n",
    "Примеры работы программы:\n",
    "car_id = 'А222BС96’\n",
    "Результат: Номер А222BС валиден. Регион: 96.\n",
    "\n",
    "car_id = 'АБ22ВВ193’\n",
    "Результат: Номер не валиден."
   ]
  },
  {
   "cell_type": "code",
   "execution_count": 1,
   "id": "dd3b35dd-af6b-4e83-a2d7-8d1df7deb0e5",
   "metadata": {},
   "outputs": [
    {
     "name": "stdout",
     "output_type": "stream",
     "text": [
      "Номер А222ВС валиден. Регион: С96.\n",
      "Номер не валиден.\n"
     ]
    }
   ],
   "source": [
    "import re\n",
    "\n",
    "def validate_car_id(car_id):\n",
    "    # Регулярное выражение для проверки валидности номера\n",
    "    pattern = r'^[АВЕКМНОРСТУХ]\\d{3}[АВЕКМНОРСТУХ]{2}\\d{2,3}$'\n",
    "    \n",
    "    match = re.match(pattern, car_id)\n",
    "\n",
    "    if match:\n",
    "        # Разбиение на номер и регион\n",
    "        car_number = car_id[:-2]\n",
    "        region = car_id[-2:] if len(car_id[-3:]) == 2 or car_id[-3] == '1' else car_id[-3:]\n",
    "        print(f\"Номер {car_number} валиден. Регион: {region}.\")\n",
    "    else:\n",
    "        print(\"Номер не валиден.\")\n",
    "\n",
    "# Примеры использования функции\n",
    "car_id1 = 'А222ВС96'\n",
    "car_id2 = 'АБ22ВВ193'\n",
    "\n",
    "validate_car_id(car_id1)\n",
    "validate_car_id(car_id2)\n"
   ]
  }
 ],
 "metadata": {
  "kernelspec": {
   "display_name": "Python 3 (ipykernel)",
   "language": "python",
   "name": "python3"
  },
  "language_info": {
   "codemirror_mode": {
    "name": "ipython",
    "version": 3
   },
   "file_extension": ".py",
   "mimetype": "text/x-python",
   "name": "python",
   "nbconvert_exporter": "python",
   "pygments_lexer": "ipython3",
   "version": "3.12.4"
  }
 },
 "nbformat": 4,
 "nbformat_minor": 5
}
