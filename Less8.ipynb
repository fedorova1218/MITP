{
 "cells": [
  {
   "cell_type": "code",
   "execution_count": 12,
   "id": "1d9ed9f7-a25b-4b65-842e-c99325db00c1",
   "metadata": {},
   "outputs": [
    {
     "name": "stdout",
     "output_type": "stream",
     "text": [
      "                       keyword     shows     region\n",
      "0                           вк  64292779  undefined\n",
      "1                одноклассники  63810309  undefined\n",
      "2                        порно  41747114  undefined\n",
      "3                         ютуб  39995567  undefined\n",
      "4                    вконтакте  21014195  undefined\n",
      "...                        ...       ...        ...\n",
      "99995   эльдорадо старый оскол      3705  undefined\n",
      "99996      frigate для firefox      3630  undefined\n",
      "99997                   укрсиб      3630  undefined\n",
      "99998  погода в ялте на неделю      3688  undefined\n",
      "99999                     ггму      3630  undefined\n",
      "\n",
      "[100000 rows x 3 columns]\n"
     ]
    }
   ],
   "source": [
    "import pandas as pd\n",
    "\n",
    "# Загружаем данные из файла keywords.csv, указав кодировку\n",
    "data = pd.read_csv('keywords.csv', encoding='utf-8')\n",
    "\n",
    "# Определяем словарь с гео-данными\n",
    "geo_data = {\n",
    "    'Центр': ['москва', 'тула', 'ярославль'],\n",
    "    'Северо-Запад': ['петербург', 'псков', 'мурманск'],\n",
    "    'Дальний Восток': ['владивосток', 'сахалин', 'хабаровск']\n",
    "}\n",
    "\n",
    "# Функция для определения региона\n",
    "def classify_region(keyword):\n",
    "    for region, cities in geo_data.items():\n",
    "        for city in cities:\n",
    "            if city in keyword.lower():\n",
    "                return region\n",
    "    return 'undefined'\n",
    "\n",
    "# Применяем функцию для определения региона к каждому ключевому слову\n",
    "data['region'] = data['keyword'].apply(classify_region)\n",
    "\n",
    "# Печатаем результаты\n",
    "print(data)\n",
    "\n"
   ]
  },
  {
   "cell_type": "code",
   "execution_count": 14,
   "id": "9160e5ef-7ce6-4f29-a9b3-e1a39ac037d6",
   "metadata": {},
   "outputs": [
    {
     "name": "stdout",
     "output_type": "stream",
     "text": [
      "                                                keyword   shows region\n",
      "127                                        авито москва  979292  Центр\n",
      "849                                     авито ярославль  209581  Центр\n",
      "1259                                             москва  153050  Центр\n",
      "1396                                    гисметео москва  140279  Центр\n",
      "1482                                   госуслуги москва  133061  Центр\n",
      "...                                                 ...     ...    ...\n",
      "98943  вакансии на авито москва от прямых работодателей    3738  Центр\n",
      "99292                      афиша кино москва на сегодня    3704  Центр\n",
      "99590             авито ярославль автомобили с пробегом    3673  Центр\n",
      "99890                               яндекс метро москва    4548  Центр\n",
      "99922                                 авто ру ярославль    3712  Центр\n",
      "\n",
      "[387 rows x 3 columns]\n"
     ]
    }
   ],
   "source": [
    "# Фильтруем строки, где регион 'Центр'\n",
    "center_region = data[data['region'] == 'Центр']\n",
    "\n",
    "# Печатаем результаты\n",
    "print(center_region)"
   ]
  }
 ],
 "metadata": {
  "kernelspec": {
   "display_name": "Python 3 (ipykernel)",
   "language": "python",
   "name": "python3"
  },
  "language_info": {
   "codemirror_mode": {
    "name": "ipython",
    "version": 3
   },
   "file_extension": ".py",
   "mimetype": "text/x-python",
   "name": "python",
   "nbconvert_exporter": "python",
   "pygments_lexer": "ipython3",
   "version": "3.12.4"
  }
 },
 "nbformat": 4,
 "nbformat_minor": 5
}
