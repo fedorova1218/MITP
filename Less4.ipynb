{
 "cells": [
  {
   "cell_type": "code",
   "execution_count": null,
   "id": "6b99dde4-0750-47ab-a2e5-9520e0f3d96e",
   "metadata": {},
   "outputs": [],
   "source": [
    "Задание 1\n",
    "\n",
    "Печатные газеты использовали свой формат дат для каждого выпуска. Для каждой газеты из списка напишите формат указанной даты для перевода в объект datetime:\n",
    "The Moscow Times — Wednesday, October 2, 2002\n",
    "The Guardian — Friday, 11.10.13\n",
    "Daily News — Thursday, 18 August 1977\n",
    "\n",
    "Пример работы программы\n",
    "Программа должна выводить на экран объекты типа datetime, соответствующие датам в условии задачи."
   ]
  },
  {
   "cell_type": "code",
   "execution_count": 16,
   "id": "c667033e-4594-42ac-86b0-45c56050eee7",
   "metadata": {},
   "outputs": [],
   "source": [
    "from datetime import datetime"
   ]
  },
  {
   "cell_type": "code",
   "execution_count": 28,
   "id": "37dcf4f6-3334-4ff9-9676-0c5ab0e8a1c6",
   "metadata": {},
   "outputs": [
    {
     "name": "stdout",
     "output_type": "stream",
     "text": [
      "2002-10-02 00:00:00\n"
     ]
    }
   ],
   "source": [
    "# Исходная дата в формате газеты\n",
    "date_string = \"Wednesday, October 2, 2002\"\n",
    "\n",
    "# Формат даты для метода strptime\n",
    "date_format = \"%A, %B %d, %Y\"\n",
    "\n",
    "# Преобразование строки в объект datetime\n",
    "date_object = datetime.strptime(date_string, date_format)\n",
    "\n",
    "# Печать объекта datetime\n",
    "print(date_object)"
   ]
  },
  {
   "cell_type": "code",
   "execution_count": 34,
   "id": "de06f1ad-570b-4a3a-85e3-0dd08eacc648",
   "metadata": {},
   "outputs": [
    {
     "name": "stdout",
     "output_type": "stream",
     "text": [
      "2013-10-11 00:00:00\n"
     ]
    }
   ],
   "source": [
    "# Исходная дата в формате газеты\n",
    "date_string = \"Friday, 11.10.13\"\n",
    "\n",
    "# Формат даты для метода strptime\n",
    "date_format = \"%A, %d.%m.%y\"\n",
    "\n",
    "# Преобразование строки в объект datetime\n",
    "date_object = datetime.strptime(date_string, date_format)\n",
    "\n",
    "# Печать объекта datetime\n",
    "print(date_object)"
   ]
  },
  {
   "cell_type": "code",
   "execution_count": 36,
   "id": "14bbad55-3d93-488b-8d8b-7900bb6fb15d",
   "metadata": {},
   "outputs": [
    {
     "name": "stdout",
     "output_type": "stream",
     "text": [
      "1977-08-18 00:00:00\n"
     ]
    }
   ],
   "source": [
    "# Исходная дата в формате газеты\n",
    "date_string = \"Thursday, 18 August 1977\"\n",
    "\n",
    "# Формат даты для метода strptime\n",
    "date_format = \"%A, %d %B %Y\"\n",
    "\n",
    "# Преобразование строки в объект datetime\n",
    "date_object = datetime.strptime(date_string, date_format)\n",
    "\n",
    "# Печать объекта datetime\n",
    "print(date_object)"
   ]
  },
  {
   "cell_type": "code",
   "execution_count": null,
   "id": "865f0359-edcf-4633-a644-62954d1b7943",
   "metadata": {},
   "outputs": [],
   "source": [
    "Задание 2 (необязательное)\n",
    "\n",
    "Напишите функцию date_range, которая возвращает список дат за период от start_date до end_date. Даты должны вводиться в формате yyyy-mm-dd. В случае неверного формата или при start_date > end_date должен возвращаться пустой список.\n",
    "\n",
    "Примеры работы программы:\n",
    "date_range(‘2022-01-01’, ‘2022-01-03’)\n",
    "[‘2022-01-01’, ‘2022-01-02’, ‘2022-01-03’]"
   ]
  },
  {
   "cell_type": "code",
   "execution_count": 43,
   "id": "d809362c-6cf3-4e1a-bbe2-14493856658f",
   "metadata": {},
   "outputs": [
    {
     "data": {
      "text/plain": [
       "['2022-01-01', '2022-01-03']"
      ]
     },
     "execution_count": 43,
     "metadata": {},
     "output_type": "execute_result"
    }
   ],
   "source": [
    "dates_correct = ['2022-01-01', '2022-01-03']\n",
    "def date_range(date_correct):\n",
    "    for dt in dates_list:\n",
    "        print(dt)\n",
    "        try:\n",
    "            # какие-то еще вычисления\n",
    "            # 1 / 0\n",
    "            \n",
    "            # питон пытается выполнить весь код\n",
    "            datetime.strptime(dt, '%Y-%m-%d')\n",
    "            dates_correct.append(dt)\n",
    "        except ValueError:  # обработка ошибки в случае некорректной даты\n",
    "            # этот код выполняется в случае ошибки в блоке try\n",
    "            print('некорректная дата')\n",
    "        except ZeroDivisionError:\n",
    "            print('Деление на ноль')\n",
    "        \n",
    "dates_correct"
   ]
  }
 ],
 "metadata": {
  "kernelspec": {
   "display_name": "Python 3 (ipykernel)",
   "language": "python",
   "name": "python3"
  },
  "language_info": {
   "codemirror_mode": {
    "name": "ipython",
    "version": 3
   },
   "file_extension": ".py",
   "mimetype": "text/x-python",
   "name": "python",
   "nbconvert_exporter": "python",
   "pygments_lexer": "ipython3",
   "version": "3.12.4"
  }
 },
 "nbformat": 4,
 "nbformat_minor": 5
}
