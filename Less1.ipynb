{
 "cells": [
  {
   "cell_type": "code",
   "execution_count": 1,
   "id": "82ce5a89-99a9-4076-92c2-d8381f4b8609",
   "metadata": {},
   "outputs": [],
   "source": [
    "ids = {'user1': [213, 213, 213, 15, 213], \n",
    "       'user2': [54, 54, 119, 119, 119], \n",
    "       'user3': [213, 98, 98, 35]}"
   ]
  },
  {
   "cell_type": "code",
   "execution_count": 45,
   "id": "ab9f5127-708f-47d4-998b-9146e92babe4",
   "metadata": {},
   "outputs": [
    {
     "data": {
      "text/plain": [
       "[213, 15, 54, 119, 98, 35]"
      ]
     },
     "execution_count": 45,
     "metadata": {},
     "output_type": "execute_result"
    }
   ],
   "source": [
    "res= []\n",
    "# по значениям\n",
    "for value in ids.values():\n",
    "    #по элементам списка значений\n",
    "    for i in value:\n",
    "        #проверка есть ли такой элемент, если нет добавление\n",
    "        if res.count(i)==0:\n",
    "            res.append(i)\n",
    "      \n",
    "res\n"
   ]
  },
  {
   "cell_type": "code",
   "execution_count": 59,
   "id": "2f9982a6-e1e6-44c3-9f41-c1cdb22a16f9",
   "metadata": {},
   "outputs": [],
   "source": [
    "queries = [\n",
    "    'смотреть сериалы онлайн',\n",
    "    'новости спорта',\n",
    "    'афиша кино',\n",
    "    'курс доллара',\n",
    "    'сериалы этим летом',\n",
    "    'курс по питону',\n",
    "    'сериалы про спорт',\n",
    "]"
   ]
  },
  {
   "cell_type": "code",
   "execution_count": 169,
   "id": "8fb04e57-d6fa-455e-bca7-0cccebe888a4",
   "metadata": {},
   "outputs": [
    {
     "data": {
      "text/plain": [
       "{3: 4, 2: 3}"
      ]
     },
     "execution_count": 169,
     "metadata": {},
     "output_type": "execute_result"
    }
   ],
   "source": [
    "count = {}\n",
    "\n",
    "for i in queries:\n",
    "    n = i.count(\" \") + 1\n",
    "    if n in count:\n",
    "        count[n] += 1\n",
    "    else:\n",
    "        count[n] = 1\n",
    "\n",
    "count\n",
    "#sum_value = sum(count.values())  \n",
    "#sum_value"
   ]
  },
  {
   "cell_type": "code",
   "execution_count": 171,
   "id": "5fd23d57-74ff-4db2-a439-2c7d9fb7b437",
   "metadata": {},
   "outputs": [
    {
     "name": "stdout",
     "output_type": "stream",
     "text": [
      "Поисковых запросов, содержащих 3 слов(а): 57.14%\n",
      "Поисковых запросов, содержащих 2 слов(а): 42.86%\n"
     ]
    }
   ],
   "source": [
    "  \n",
    "sum_value = sum(count.values())        \n",
    "for key, value in count.items():\n",
    "    percent_count = round(value/sum_value*100, 2)\n",
    "    print(\"Поисковых запросов, содержащих \"+ str(key) +\" слов(а): \" + str(percent_count)+\"%\")\n",
    "#print(count)\n"
   ]
  }
 ],
 "metadata": {
  "kernelspec": {
   "display_name": "Python 3 (ipykernel)",
   "language": "python",
   "name": "python3"
  },
  "language_info": {
   "codemirror_mode": {
    "name": "ipython",
    "version": 3
   },
   "file_extension": ".py",
   "mimetype": "text/x-python",
   "name": "python",
   "nbconvert_exporter": "python",
   "pygments_lexer": "ipython3",
   "version": "3.12.4"
  }
 },
 "nbformat": 4,
 "nbformat_minor": 5
}
